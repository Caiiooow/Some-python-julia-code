{
 "cells": [
  {
   "cell_type": "code",
   "execution_count": 1,
   "metadata": {},
   "outputs": [],
   "source": [
    "# Basically the Bisection Method works through when you stablish a interval in which you know there gotta be zeros in there "
   ]
  },
  {
   "cell_type": "code",
   "execution_count": 2,
   "metadata": {},
   "outputs": [],
   "source": [
    "# For a interval from a to b and one c in between\n",
    "\n",
    " # If f(a)*f(c) > 0 root on interval c to b\n",
    "    \n",
    " # If f(a)*f(c) < 0 root on interval a to c"
   ]
  },
  {
   "cell_type": "code",
   "execution_count": 20,
   "metadata": {},
   "outputs": [],
   "source": [
    "import numpy as np\n",
    "import matplotlib.pyplot as plt\n"
   ]
  },
  {
   "cell_type": "code",
   "execution_count": 4,
   "metadata": {},
   "outputs": [],
   "source": [
    "# Defining a function that we wanna know it's zeros\n",
    "\n",
    "def f(x): \n",
    "    return x**3 + 1\n",
    "\n",
    "\n"
   ]
  },
  {
   "cell_type": "code",
   "execution_count": 22,
   "metadata": {},
   "outputs": [],
   "source": [
    "# Defining now the bisection\n",
    "\n",
    "def bisection(a,b,tol):\n",
    "    # tol for tolerance, what is accepted as an answer \n",
    "    xl = a\n",
    "    xr = b\n",
    "    i = 1\n",
    "    # The intervals are gonna become smaller and smaller until it reaches the point where the root is \n",
    "    \n",
    "    while (np.abs(xl - xr) >= tol):\n",
    "        c = (xl + xr)/2\n",
    "        \n",
    "# Now implementing the cases\n",
    "        prod = f(xl)*f(c)\n",
    "        if prod > tol: \n",
    "            xl = c\n",
    "            i += 1\n",
    "        elif prod < tol:\n",
    "            xr = c\n",
    "            i += 1\n",
    "    return i, c\n",
    "\n"
   ]
  },
  {
   "cell_type": "code",
   "execution_count": 30,
   "metadata": {},
   "outputs": [],
   "source": [
    "answer = bisection(-1,0, 1e-10)"
   ]
  },
  {
   "cell_type": "code",
   "execution_count": 31,
   "metadata": {},
   "outputs": [
    {
     "name": "stdout",
     "output_type": "stream",
     "text": [
      "So the root of the function is at x = (35, -0.9999999999417923)\n"
     ]
    }
   ],
   "source": [
    "print(f\"So the root of the function is at x = {answer}\")"
   ]
  },
  {
   "cell_type": "code",
   "execution_count": 32,
   "metadata": {},
   "outputs": [
    {
     "name": "stdout",
     "output_type": "stream",
     "text": [
      "Iterations equal 35\n"
     ]
    }
   ],
   "source": [
    "# But how many iterations this method took to finds this root ? \n",
    "\n",
    "print(f\"Iterations equal {answer[0]}\")"
   ]
  },
  {
   "cell_type": "code",
   "execution_count": 18,
   "metadata": {},
   "outputs": [
    {
     "data": {
      "image/png": "[encoded data removed]",
      "text/plain": [
       "<Figure size 432x288 with 1 Axes>"
      ]
     },
     "metadata": {
      "needs_background": "light"
     },
     "output_type": "display_data"
    }
   ],
   "source": [
    "# Now let's plot the graph to see if it is where it is expected to be\n",
    "\n",
    "x = np.linspace(-2,2, 100) # To stablish the points for the value of x \n",
    "\n",
    "\n",
    "plt.plot(x,f(x))\n",
    "\n",
    "plt.title(\"Some Function\")\n",
    "plt.xlabel(\"x axis\")\n",
    "plt.ylabel(\"y axis\")\n",
    "plt.grid()\n",
    "plt.show()"
   ]
  },
  {
   "cell_type": "code",
   "execution_count": 19,
   "metadata": {},
   "outputs": [],
   "source": [
    "# Well, this method is really useful if know that there is no other roots and no other intervals for the roots "
   ]
  },
  {
   "cell_type": "code",
   "execution_count": null,
   "metadata": {},
   "outputs": [],
   "source": []
  }
 ],
 "metadata": {
  "kernelspec": {
   "display_name": "Python 3",
   "language": "python",
   "name": "python3"
  },
  "language_info": {
   "codemirror_mode": {
    "name": "ipython",
    "version": 3
   },
   "file_extension": ".py",
   "mimetype": "text/x-python",
   "name": "python",
   "nbconvert_exporter": "python",
   "pygments_lexer": "ipython3",
   "version": "3.8.5"
  }
 },
 "nbformat": 4,
 "nbformat_minor": 4
}

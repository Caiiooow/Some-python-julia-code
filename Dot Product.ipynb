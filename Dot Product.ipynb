{
 "cells": [
  {
   "cell_type": "code",
   "execution_count": 7,
   "metadata": {},
   "outputs": [],
   "source": [
    "import numpy as np\n",
    "import math "
   ]
  },
  {
   "cell_type": "code",
   "execution_count": 8,
   "metadata": {},
   "outputs": [],
   "source": [
    "# We want to take the product of two vectors\n",
    "# A vector is a element of vectorial space which has n-coordinates(elements) in it\n",
    "# A vector has a direction and a magnitude "
   ]
  },
  {
   "cell_type": "code",
   "execution_count": 9,
   "metadata": {},
   "outputs": [],
   "source": [
    "# Take for example two vectors v and w to start our Dot Product in a inicial step\n",
    "v = np.array([1,0,0]) # i + 0j + 0k\n",
    "w = np.array([4,6,7]) # 4i + 6j + 7k"
   ]
  },
  {
   "cell_type": "code",
   "execution_count": 10,
   "metadata": {},
   "outputs": [],
   "source": [
    "# The magnitute of a vector is given by \n",
    "def norm_vector(z):\n",
    "    norm = math.sqrt(z[0]**2 + z[1]**2 + z[2]**2)\n",
    "    return norm"
   ]
  },
  {
   "cell_type": "code",
   "execution_count": 18,
   "metadata": {},
   "outputs": [],
   "source": [
    "# Generalizing it for n-coordinates \n",
    "def norm_vector(z):\n",
    "    c = 0\n",
    "    for i in range(len(z)):\n",
    "        c += z[i]**2\n",
    "        norm = math.sqrt(c)\n",
    "    return norm"
   ]
  },
  {
   "cell_type": "code",
   "execution_count": 19,
   "metadata": {},
   "outputs": [
    {
     "data": {
      "text/plain": [
       "1.0"
      ]
     },
     "execution_count": 19,
     "metadata": {},
     "output_type": "execute_result"
    }
   ],
   "source": [
    "norm_vector(v)"
   ]
  },
  {
   "cell_type": "code",
   "execution_count": 20,
   "metadata": {},
   "outputs": [],
   "source": [
    "def DotProduct(z,t): # To define the dot prodoct between the v and w vectors # Let's use z and t just to keep it general\n",
    "    prod = z[0]*t[0] + z[1]*t[1] + z[2]*t[2]\n",
    "    return prod"
   ]
  },
  {
   "cell_type": "code",
   "execution_count": 21,
   "metadata": {},
   "outputs": [],
   "source": [
    "answer = DotProduct(v,w) "
   ]
  },
  {
   "cell_type": "code",
   "execution_count": 22,
   "metadata": {
    "scrolled": true
   },
   "outputs": [
    {
     "name": "stdout",
     "output_type": "stream",
     "text": [
      "The dot product between v and w is 4 \n"
     ]
    }
   ],
   "source": [
    "print(f\"The dot product between v and w is {answer} \")"
   ]
  },
  {
   "cell_type": "code",
   "execution_count": 23,
   "metadata": {},
   "outputs": [],
   "source": [
    "# This is quite good actually, but it is possible to make even more general things and in a better way"
   ]
  },
  {
   "cell_type": "code",
   "execution_count": 24,
   "metadata": {},
   "outputs": [],
   "source": [
    "def DotProduct1(z,t): \n",
    "    prod = 0 # Since when two vectors are doted they shall have the same number of elements \n",
    "    for i in range(len(z)):\n",
    "        prod += z[i]*t[i] \n",
    "    return prod\n",
    "    "
   ]
  },
  {
   "cell_type": "code",
   "execution_count": 25,
   "metadata": {
    "scrolled": false
   },
   "outputs": [
    {
     "data": {
      "text/plain": [
       "4"
      ]
     },
     "execution_count": 25,
     "metadata": {},
     "output_type": "execute_result"
    }
   ],
   "source": [
    "DotProduct1(v,w)"
   ]
  },
  {
   "cell_type": "code",
   "execution_count": null,
   "metadata": {},
   "outputs": [],
   "source": []
  }
 ],
 "metadata": {
  "kernelspec": {
   "display_name": "Python 3",
   "language": "python",
   "name": "python3"
  },
  "language_info": {
   "codemirror_mode": {
    "name": "ipython",
    "version": 3
   },
   "file_extension": ".py",
   "mimetype": "text/x-python",
   "name": "python",
   "nbconvert_exporter": "python",
   "pygments_lexer": "ipython3",
   "version": "3.8.5"
  }
 },
 "nbformat": 4,
 "nbformat_minor": 4
}
